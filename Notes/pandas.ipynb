{
 "cells": [
  {
   "cell_type": "markdown",
   "id": "f0cd8f9d-4003-448c-baa7-ca7400ec4bfd",
   "metadata": {},
   "source": [
    "## 建立DataFrame物件"
   ]
  },
  {
   "cell_type": "markdown",
   "id": "471336a0-cf01-4d1b-bfb6-369578d55bab",
   "metadata": {},
   "source": [
    "#### 用cloumns更改欄位 "
   ]
  },
  {
   "cell_type": "code",
   "execution_count": 1,
   "id": "5466477f-0bec-46b1-b9dc-bcfd09ccd3c6",
   "metadata": {},
   "outputs": [
    {
     "name": "stdout",
     "output_type": "stream",
     "text": [
      "   蘋果  香蕉  西瓜\n",
      "0   1   3   4\n",
      "1   5   2   1\n",
      "2   3   2   1\n",
      "3   0   8   5\n"
     ]
    }
   ],
   "source": [
    "import pandas as pd\n",
    "\n",
    "fruits = {\n",
    "    \"蘋果\": [1, 5, 3, 0],\n",
    "    \"香蕉\": [3, 2, 2, 8],\n",
    "    \"西瓜\": [4, 1, 1, 5]\n",
    "    }\n",
    "\n",
    "df = pd.DataFrame(fruits)\n",
    "print(df)"
   ]
  },
  {
   "cell_type": "code",
   "execution_count": 12,
   "id": "08b83bc4-3f56-48fd-b98d-1e1368ef1ff1",
   "metadata": {},
   "outputs": [
    {
     "name": "stdout",
     "output_type": "stream",
     "text": [
      "    蘋果  香蕉  西瓜\n",
      "桃園   1   3   4\n",
      "台中   5   2   1\n",
      "彰化   3   2   1\n",
      "宜蘭   0   8   5\n",
      "    banana  apple  watermelon\n",
      "桃園       1      3           4\n",
      "台中       5      2           1\n",
      "新北       3      2           1\n",
      "宜蘭       0      8           5\n"
     ]
    }
   ],
   "source": [
    "cities = [\"桃園\", \"台中\", \"彰化\", \"宜蘭\"]\n",
    "df = pd.DataFrame(fruits, index=cities)\n",
    "print(df)\n",
    "\n",
    "df.columns = [\"banana\", \"apple\", \"watermelon\"]\n",
    "cities[2] = \"新北\"\n",
    "df.index = cities\n",
    "print(df)"
   ]
  },
  {
   "cell_type": "markdown",
   "id": "ae9e20e1-02c2-4b89-b863-18c2ca2d9a62",
   "metadata": {},
   "source": [
    "## 轉置: T"
   ]
  },
  {
   "cell_type": "code",
   "execution_count": 17,
   "id": "0b0f8c99-f0a9-4d2b-972e-5b4b7883e63f",
   "metadata": {},
   "outputs": [
    {
     "data": {
      "text/html": [
       "<div>\n",
       "<style scoped>\n",
       "    .dataframe tbody tr th:only-of-type {\n",
       "        vertical-align: middle;\n",
       "    }\n",
       "\n",
       "    .dataframe tbody tr th {\n",
       "        vertical-align: top;\n",
       "    }\n",
       "\n",
       "    .dataframe thead th {\n",
       "        text-align: right;\n",
       "    }\n",
       "</style>\n",
       "<table border=\"1\" class=\"dataframe\">\n",
       "  <thead>\n",
       "    <tr style=\"text-align: right;\">\n",
       "      <th></th>\n",
       "      <th>桃園</th>\n",
       "      <th>台中</th>\n",
       "      <th>新北</th>\n",
       "      <th>宜蘭</th>\n",
       "    </tr>\n",
       "  </thead>\n",
       "  <tbody>\n",
       "    <tr>\n",
       "      <th>banana</th>\n",
       "      <td>1</td>\n",
       "      <td>5</td>\n",
       "      <td>3</td>\n",
       "      <td>0</td>\n",
       "    </tr>\n",
       "    <tr>\n",
       "      <th>apple</th>\n",
       "      <td>3</td>\n",
       "      <td>2</td>\n",
       "      <td>2</td>\n",
       "      <td>8</td>\n",
       "    </tr>\n",
       "    <tr>\n",
       "      <th>watermelon</th>\n",
       "      <td>4</td>\n",
       "      <td>1</td>\n",
       "      <td>1</td>\n",
       "      <td>5</td>\n",
       "    </tr>\n",
       "  </tbody>\n",
       "</table>\n",
       "</div>"
      ],
      "text/plain": [
       "            桃園  台中  新北  宜蘭\n",
       "banana       1   5   3   0\n",
       "apple        3   2   2   8\n",
       "watermelon   4   1   1   5"
      ]
     },
     "execution_count": 17,
     "metadata": {},
     "output_type": "execute_result"
    }
   ],
   "source": [
    "df.T"
   ]
  },
  {
   "cell_type": "markdown",
   "id": "bb93a61e-2f5c-468f-b066-70c6bf3505c0",
   "metadata": {},
   "source": [
    "## 匯入及匯出DataFrame物件"
   ]
  },
  {
   "cell_type": "markdown",
   "id": "1babe4e2-4ed2-4c87-8a04-f3b9298a58b5",
   "metadata": {},
   "source": [
    "#### df.to_csv(filename)\n",
    "#### df.to_excel(filename)\n",
    "#### df.to_html(filename)\n",
    "#### df.to_json(filename)\n",
    "#### 讀取就改成read"
   ]
  },
  {
   "cell_type": "markdown",
   "id": "e27e99d6-9093-4630-8a6e-7e168656143c",
   "metadata": {},
   "source": [
    "## 取資料\n",
    "#### head、tail: 預設5筆"
   ]
  },
  {
   "cell_type": "markdown",
   "id": "1f5b99e7-92f8-48c4-8d1b-9d668ef5f571",
   "metadata": {},
   "source": [
    "## index、columns、values: 索引、欄位、資料\n",
    "#### df.index()\n",
    "#### df.columns()\n",
    "#### df.values()"
   ]
  },
  {
   "cell_type": "markdown",
   "id": "f1c330a4-3ae1-4bed-bffe-98b119a94ec1",
   "metadata": {},
   "source": [
    "## 走訪DataFrame: iterrows()\n",
    "#### DataFrame物件每一列都是一筆資料，可以用for搭配iterrows()方法，走訪每一筆資料"
   ]
  },
  {
   "cell_type": "code",
   "execution_count": 10,
   "id": "1cd519d0-0786-47a8-b113-c6beaecde1cf",
   "metadata": {},
   "outputs": [
    {
     "name": "stdout",
     "output_type": "stream",
     "text": [
      "0 1 3 4\n",
      "1 5 2 1\n",
      "2 3 2 1\n",
      "3 0 8 5\n"
     ]
    }
   ],
   "source": [
    "fruits = {\n",
    "    \"蘋果\": [1, 5, 3, 0],\n",
    "    \"香蕉\": [3, 2, 2, 8],\n",
    "    \"西瓜\": [4, 1, 1, 5]\n",
    "    }\n",
    "\n",
    "df = pd.DataFrame(fruits)\n",
    "\n",
    "for index, row in df.iterrows():\n",
    "    print(index, row[\"蘋果\"], row[\"香蕉\"], row[\"西瓜\"])"
   ]
  },
  {
   "cell_type": "markdown",
   "id": "2d7a122c-4bb3-4ac4-bef5-5eafdf3f8834",
   "metadata": {},
   "source": [
    "## 排序資料\n",
    "#### sort_values() 指定特定欄位標籤排序\n",
    "#### set_index() 指定索引標籤是哪一個欄位，可在原本DataFrame做修改"
   ]
  },
  {
   "cell_type": "markdown",
   "id": "ba01db0c-5266-41ed-9ff3-3a3cc5f67e77",
   "metadata": {},
   "source": [
    "## 更新資料\n",
    "#### loc: 含頭也含尾，用 column name 取資料建議用、創建新columns時\n",
    "#### iloc: 含頭不含尾，用 index 取資料建議用\n",
    "[[Python 資料分析] Pandas 的 loc 與 iloc 如何選擇?](https://ticyyang.medium.com/python%E8%B3%87%E6%96%99%E5%88%86%E6%9E%90-pandas%E7%9A%84-loc%E8%88%87iloc%E4%B9%8B%E7%95%B0%E5%90%8C-bf7d62541676)"
   ]
  },
  {
   "cell_type": "code",
   "execution_count": null,
   "id": "83495003-bad4-4b00-88af-420e8798bd77",
   "metadata": {},
   "outputs": [],
   "source": [
    "df.loc[\"A\", \"sales\"] = 9.6\n",
    "df.iloc[1, 2] = 20.1\n",
    "\n",
    "r = [\"郵購\", \"Viva\", 18.9]\n",
    "df.loc[\"C\"] = r"
   ]
  },
  {
   "cell_type": "markdown",
   "id": "5c510d96-017f-45fc-ab2f-56286c777862",
   "metadata": {},
   "source": [
    "## 刪除資料\n",
    "#### 純量可改為None，一筆或多筆資料用drop\n",
    "#### 刪除整個column，drop要指定參數axis = 1"
   ]
  },
  {
   "cell_type": "markdown",
   "id": "4aa379a1-84d7-434a-afe3-e4afa3f05642",
   "metadata": {},
   "source": [
    "## 新增資料\n",
    "#### 新增整個欄位"
   ]
  },
  {
   "cell_type": "code",
   "execution_count": null,
   "id": "77adab92-d158-4bf7-9683-d7b49bcc608f",
   "metadata": {},
   "outputs": [],
   "source": [
    "df.loc[:, \"items\"] = randint(100, 200, size=len(df))"
   ]
  },
  {
   "cell_type": "markdown",
   "id": "4c3c7126-fd6a-4419-ab42-1d9fd9ce97cc",
   "metadata": {},
   "source": [
    "## 群組\n",
    "#### df.groupby()"
   ]
  },
  {
   "cell_type": "markdown",
   "id": "cf432d15-1881-45e3-b0c1-9a77c04ac383",
   "metadata": {},
   "source": [
    "## 樞紐分析表\n",
    "#### pivot_table()"
   ]
  },
  {
   "cell_type": "code",
   "execution_count": null,
   "id": "5f3b35b1-cb77-47d9-83b3-b30d9d32acf5",
   "metadata": {},
   "outputs": [],
   "source": [
    "pivot_tb = df.pivot_table(index=\"\", columns=\"\", values=\"\")\n",
    "pivot_tb"
   ]
  },
  {
   "cell_type": "markdown",
   "id": "097bbc38-3ecc-4dd1-86de-18ac7c06d9bd",
   "metadata": {},
   "source": [
    "## 統計相關方法\n",
    "#### describe() 顯示DataFrame物件指定欄位 or Series物件的資料描述 or Pandas套件統計相關方法說明"
   ]
  },
  {
   "cell_type": "code",
   "execution_count": null,
   "id": "2ecbeccb-f9d2-4f6f-9dee-4870d65835c6",
   "metadata": {},
   "outputs": [],
   "source": []
  }
 ],
 "metadata": {
  "kernelspec": {
   "display_name": "Python 3 (ipykernel)",
   "language": "python",
   "name": "python3"
  },
  "language_info": {
   "codemirror_mode": {
    "name": "ipython",
    "version": 3
   },
   "file_extension": ".py",
   "mimetype": "text/x-python",
   "name": "python",
   "nbconvert_exporter": "python",
   "pygments_lexer": "ipython3",
   "version": "3.11.7"
  }
 },
 "nbformat": 4,
 "nbformat_minor": 5
}

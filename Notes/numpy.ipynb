{
 "cells": [
  {
   "cell_type": "markdown",
   "id": "45a9b0fe-31e3-4b8d-a086-7c2b73b2e3c9",
   "metadata": {},
   "source": [
    "### *arguemnts 是參數識別字前加上一個星號，當成一組tuple\n",
    "### **keywords 是參數識別字前加上兩個星號，當成一組dict"
   ]
  },
  {
   "cell_type": "code",
   "execution_count": null,
   "id": "4e11797e-2ad8-4282-bc73-faf98365e786",
   "metadata": {},
   "outputs": [],
   "source": [
    "def function_name(*arguments, *keywords*):\n",
    "    # do something\n",
    "    return something"
   ]
  },
  {
   "cell_type": "markdown",
   "id": "445fa06b-d9b7-4eea-96b9-380376d71852",
   "metadata": {},
   "source": [
    "## 更多NumPy建立array的方式"
   ]
  },
  {
   "cell_type": "code",
   "execution_count": 2,
   "id": "f3b1f0bf-88da-4ef9-aab0-fd45555f297e",
   "metadata": {},
   "outputs": [
    {
     "name": "stdout",
     "output_type": "stream",
     "text": [
      "[0 1 2 3 4]\n",
      "[1]\n"
     ]
    }
   ],
   "source": [
    "import numpy as np\n",
    "\n",
    "a = np.arange(5)\n",
    "print(a)\n",
    "b = np.arange(1, 5, 4)\n",
    "print(b)"
   ]
  },
  {
   "cell_type": "code",
   "execution_count": 4,
   "id": "e8c31655-ced9-49f7-b907-bb329baece3a",
   "metadata": {},
   "outputs": [
    {
     "name": "stdout",
     "output_type": "stream",
     "text": [
      "[0. 0.]\n",
      "[[0. 0.]\n",
      " [0. 0.]]\n"
     ]
    }
   ],
   "source": [
    "c = np.zeros(2)\n",
    "print(c)\n",
    "d = np.zeros((2, 2))\n",
    "print(d)"
   ]
  },
  {
   "cell_type": "code",
   "execution_count": 5,
   "id": "3f5678cc-9ce0-4e89-9356-ecbf3e210e62",
   "metadata": {},
   "outputs": [
    {
     "name": "stdout",
     "output_type": "stream",
     "text": [
      "[1. 1.]\n",
      "[[1. 1.]\n",
      " [1. 1.]]\n"
     ]
    }
   ],
   "source": [
    "e = np.ones(2)\n",
    "print(e)\n",
    "f = np.ones((2, 2))\n",
    "print(f)"
   ]
  },
  {
   "cell_type": "markdown",
   "id": "c8427a9c-5e42-44c6-9c8f-d6c49bf6df24",
   "metadata": {},
   "source": [
    "## array維度轉換"
   ]
  },
  {
   "cell_type": "code",
   "execution_count": 6,
   "id": "6f1c44d9-e920-49f7-93c9-835d61b486e9",
   "metadata": {},
   "outputs": [
    {
     "name": "stdout",
     "output_type": "stream",
     "text": [
      "[ 0  1  2  3  4  5  6  7  8  9 10 11 12 13 14 15]\n",
      "[[ 0  1  2  3]\n",
      " [ 4  5  6  7]\n",
      " [ 8  9 10 11]\n",
      " [12 13 14 15]]\n"
     ]
    }
   ],
   "source": [
    "a = np.arange(16)\n",
    "print(a)\n",
    "b = a.reshape((4, 4))\n",
    "print(b)"
   ]
  },
  {
   "cell_type": "markdown",
   "id": "e9ccd6b0-3047-4b94-988a-c93c8745c5f1",
   "metadata": {},
   "source": [
    "## 向量長度計算\n"
   ]
  },
  {
   "cell_type": "markdown",
   "id": "873ade92-fbb9-4160-b6ba-c9300e29b2c0",
   "metadata": {},
   "source": [
    "#### 使用numpy的linalg模組的norm方法"
   ]
  },
  {
   "cell_type": "code",
   "execution_count": 5,
   "id": "7a21b759-48e4-4ea1-b42a-9336f53d8939",
   "metadata": {},
   "outputs": [
    {
     "name": "stdout",
     "output_type": "stream",
     "text": [
      "2.23606797749979\n"
     ]
    }
   ],
   "source": [
    "import numpy as np\n",
    "\n",
    "park = np.array([1, 2])\n",
    "norm_park = np.linalg.norm(park)\n",
    "print(norm_park)"
   ]
  },
  {
   "cell_type": "code",
   "execution_count": 2,
   "id": "45bebedc-3418-49d3-a814-ae15b12f2884",
   "metadata": {},
   "outputs": [],
   "source": [
    "import numpy as np"
   ]
  },
  {
   "cell_type": "code",
   "execution_count": 6,
   "id": "7ec7e7bd-f92a-4fcf-9cef-750c0b0d10e7",
   "metadata": {},
   "outputs": [
    {
     "name": "stdout",
     "output_type": "stream",
     "text": [
      "2.23606797749979\n"
     ]
    }
   ],
   "source": [
    "park = np.array([1, 2])\n",
    "norm_park = np.linalg.norm(park)\n",
    "print(norm_park)"
   ]
  },
  {
   "cell_type": "code",
   "execution_count": 7,
   "id": "4de424d4-e405-41c7-ab60-5b165a966e14",
   "metadata": {},
   "outputs": [
    {
     "name": "stdout",
     "output_type": "stream",
     "text": [
      "3.605551275463989\n"
     ]
    }
   ],
   "source": [
    "office = np.array([4, 4])\n",
    "park_office = park - office\n",
    "norm = np.linalg.norm(park_office)\n",
    "print(norm)"
   ]
  },
  {
   "cell_type": "markdown",
   "id": "041a91ef-be00-49dd-a430-6f8296b16d5b",
   "metadata": {},
   "source": [
    "#### 切割運算子, array[start: end: step]"
   ]
  },
  {
   "cell_type": "code",
   "execution_count": 9,
   "id": "c2d1217c-61b1-4c30-b503-03d71425a090",
   "metadata": {},
   "outputs": [
    {
     "name": "stdout",
     "output_type": "stream",
     "text": [
      "[0 1 2 3 4 5 6 7 8 9]\n",
      "[2 5 8]\n",
      "[0 2 4 6 8]\n",
      "[9 8 7 6 5 4 3 2 1 0]\n"
     ]
    }
   ],
   "source": [
    "a = np.arange(10)\n",
    "print(a)\n",
    "\n",
    "b = a[2: 9: 3]\n",
    "c = a[::2]\n",
    "d = a[::-1]\n",
    "print(b)\n",
    "print(c)\n",
    "print(d)"
   ]
  },
  {
   "cell_type": "markdown",
   "id": "7cfa21b5-1f93-442e-86b2-0d855745248f",
   "metadata": {},
   "source": [
    "## 矩陣運算\n"
   ]
  },
  {
   "cell_type": "markdown",
   "id": "0fde4cf8-2aa0-4ed7-a502-9a501b2c18b4",
   "metadata": {},
   "source": [
    "#### 矩陣與純量的四則運算"
   ]
  },
  {
   "cell_type": "code",
   "execution_count": 12,
   "id": "3ecaabfd-e7c3-411d-a877-0e61903d4996",
   "metadata": {},
   "outputs": [
    {
     "name": "stdout",
     "output_type": "stream",
     "text": [
      "[[-4 -3 -2]\n",
      " [-1  0  1]]\n",
      "[[ 6  7  8]\n",
      " [ 9 10 11]]\n",
      "[[ 5 10 15]\n",
      " [20 25 30]]\n",
      "[[0.2 0.4 0.6]\n",
      " [0.8 1.  1.2]]\n"
     ]
    }
   ],
   "source": [
    "a = np.array([[1, 2, 3], [4, 5, 6]])\n",
    "s = 5\n",
    "\n",
    "b = a - s\n",
    "print(b)\n",
    "c = a + s\n",
    "print(c)\n",
    "d = a * s\n",
    "print(d)\n",
    "e = a / s\n",
    "print(e)"
   ]
  },
  {
   "cell_type": "markdown",
   "id": "2bc61be5-e669-40f7-bdc2-2053e3f26b92",
   "metadata": {},
   "source": [
    "#### 點積運算(Dot Product)"
   ]
  },
  {
   "cell_type": "code",
   "execution_count": 14,
   "id": "2cfa3f9c-9dc8-4465-9f4a-2f0d41f3b43d",
   "metadata": {},
   "outputs": [
    {
     "name": "stdout",
     "output_type": "stream",
     "text": [
      "[[19 22]\n",
      " [43 50]]\n"
     ]
    }
   ],
   "source": [
    "x = np.array([[1, 2], [3, 4]])\n",
    "y = np.array([[5, 6], [7, 8]])\n",
    "\n",
    "z = x.dot(y)\n",
    "print(z)"
   ]
  },
  {
   "cell_type": "markdown",
   "id": "10f48b95-881d-458f-992e-7ebf72e3b008",
   "metadata": {},
   "source": [
    "## 切割二維元素"
   ]
  },
  {
   "cell_type": "code",
   "execution_count": 16,
   "id": "35ea3669-a4cd-47eb-b542-2b1ec70ad591",
   "metadata": {},
   "outputs": [
    {
     "name": "stdout",
     "output_type": "stream",
     "text": [
      "[[11 12 13 14 15]\n",
      " [16 17 18 19 20]\n",
      " [21 22 23 24 25]\n",
      " [26 27 28 29 30]\n",
      " [31 32 33 34 35]]\n"
     ]
    }
   ],
   "source": [
    "a = np.arange(11, 36)\n",
    "\n",
    "b = a.reshape(5, 5)\n",
    "print(b)"
   ]
  },
  {
   "cell_type": "code",
   "execution_count": 19,
   "id": "10b0403e-d13e-4871-a3b0-a8b97401c9b6",
   "metadata": {},
   "outputs": [
    {
     "name": "stdout",
     "output_type": "stream",
     "text": [
      "[17 18 19]\n",
      "[16 21]\n",
      "[[11 13 15]\n",
      " [21 23 25]\n",
      " [31 33 35]]\n"
     ]
    }
   ],
   "source": [
    "c = b[1, 1:4]\n",
    "print(c)\n",
    "\n",
    "d = b[1:3, 0]\n",
    "print(d)\n",
    "\n",
    "e = b[::2, ::2]\n",
    "print(e)"
   ]
  },
  {
   "cell_type": "markdown",
   "id": "97ffd03f-c910-4629-ba85-b70849b6afa8",
   "metadata": {},
   "source": [
    "### boolean array"
   ]
  },
  {
   "cell_type": "code",
   "execution_count": 23,
   "id": "b68db89b-e20d-4835-b4c7-b2f0077213eb",
   "metadata": {},
   "outputs": [
    {
     "name": "stdout",
     "output_type": "stream",
     "text": [
      "[1 2 3 4 5 6]\n",
      "[False  True False  True False  True]\n"
     ]
    }
   ],
   "source": [
    "b = np.arange(1, 7)\n",
    "print(b)\n",
    "mask = (b % 2 == 0)\n",
    "print(mask)"
   ]
  },
  {
   "cell_type": "markdown",
   "id": "ebe3a666-af1c-461c-a4e8-4b4d07e99799",
   "metadata": {},
   "source": [
    "## 陣列形狀與內容操作"
   ]
  },
  {
   "cell_type": "markdown",
   "id": "af809604-a929-446d-a4e3-b8ca6eb69076",
   "metadata": {},
   "source": [
    "#### 陣列平坦化: 可以將二維陣列變成一維, 方法: ravel"
   ]
  },
  {
   "cell_type": "code",
   "execution_count": 25,
   "id": "42698e1c-d089-4542-a714-1cbaaedc7b08",
   "metadata": {},
   "outputs": [
    {
     "name": "stdout",
     "output_type": "stream",
     "text": [
      "[[1 2 3]\n",
      " [4 5 6]]\n",
      "[1 2 3 4 5 6]\n"
     ]
    }
   ],
   "source": [
    "a = np.array([[1, 2, 3], [4, 5, 6]])\n",
    "print(a)\n",
    "b = a.ravel()\n",
    "print(b)"
   ]
  },
  {
   "cell_type": "markdown",
   "id": "7616e4d8-7c0a-4b6a-8363-25b47c839b7a",
   "metadata": {},
   "source": [
    "#### 交換陣列維度: T or transpose"
   ]
  },
  {
   "cell_type": "code",
   "execution_count": 26,
   "id": "6deca7a7-b246-4ea8-9646-13f78dd7ebe7",
   "metadata": {},
   "outputs": [
    {
     "name": "stdout",
     "output_type": "stream",
     "text": [
      "[[1 2]\n",
      " [3 4]\n",
      " [5 6]]\n",
      "[[1 3 5]\n",
      " [2 4 6]]\n",
      "[[1 3 5]\n",
      " [2 4 6]]\n"
     ]
    }
   ],
   "source": [
    "a = np.array([[1, 2], [3, 4], [5, 6]])\n",
    "print(a)\n",
    "b = a.T\n",
    "print(b)\n",
    "c = a.transpose()\n",
    "print(c)"
   ]
  },
  {
   "cell_type": "markdown",
   "id": "dd354243-c791-4924-96ec-04d0313275b8",
   "metadata": {},
   "source": [
    "### 內容操作： copy、fill、concatenate\n",
    "#### 盡量不要用賦值(=)的方式，用copy，不然兩個變數會一起變動"
   ]
  },
  {
   "cell_type": "code",
   "execution_count": 3,
   "id": "6f40c396-9d15-4db8-9115-e5404ee18c11",
   "metadata": {},
   "outputs": [
    {
     "name": "stdout",
     "output_type": "stream",
     "text": [
      "[1 2 3]\n"
     ]
    }
   ],
   "source": [
    "a = np.array([1, 2, 3])\n",
    "b = a.copy()\n",
    "print(b)"
   ]
  },
  {
   "cell_type": "markdown",
   "id": "f5e8aae5-a579-4d89-9680-025bbe1487c5",
   "metadata": {},
   "source": [
    "#### fill: 變成單一值"
   ]
  },
  {
   "cell_type": "code",
   "execution_count": 8,
   "id": "dbea763e-5245-4655-829f-8680111cd3eb",
   "metadata": {},
   "outputs": [
    {
     "name": "stdout",
     "output_type": "stream",
     "text": [
      "[5 5 5]\n"
     ]
    }
   ],
   "source": [
    "b.fill(5)\n",
    "print(b)"
   ]
  },
  {
   "cell_type": "markdown",
   "id": "568e7f4b-33b7-4958-9e76-fb612f9b9856",
   "metadata": {},
   "source": [
    "#### concatenate: 合併 參數 axis 預設為 0 直向合併"
   ]
  },
  {
   "cell_type": "code",
   "execution_count": 13,
   "id": "7acb278c-c777-4ed5-850b-76fcb69bbcba",
   "metadata": {},
   "outputs": [
    {
     "name": "stdout",
     "output_type": "stream",
     "text": [
      "[[1 2]\n",
      " [3 4]\n",
      " [5 6]\n",
      " [7 8]]\n",
      "[[1 2]\n",
      " [3 4]\n",
      " [5 6]\n",
      " [7 8]]\n",
      "[[1 2 5 6]\n",
      " [3 4 7 8]]\n"
     ]
    }
   ],
   "source": [
    "c = np.concatenate((a, b))\n",
    "print(c)\n",
    "\n",
    "a = np.array([[1, 2], [3, 4]])\n",
    "b = np.array([[5, 6], [7, 8]])\n",
    "c = np.concatenate((a, b), axis=0)\n",
    "print(c)\n",
    "d = np.concatenate((a, b), axis=1)\n",
    "print(d)"
   ]
  }
 ],
 "metadata": {
  "kernelspec": {
   "display_name": "Python 3 (ipykernel)",
   "language": "python",
   "name": "python3"
  },
  "language_info": {
   "codemirror_mode": {
    "name": "ipython",
    "version": 3
   },
   "file_extension": ".py",
   "mimetype": "text/x-python",
   "name": "python",
   "nbconvert_exporter": "python",
   "pygments_lexer": "ipython3",
   "version": "3.11.7"
  }
 },
 "nbformat": 4,
 "nbformat_minor": 5
}

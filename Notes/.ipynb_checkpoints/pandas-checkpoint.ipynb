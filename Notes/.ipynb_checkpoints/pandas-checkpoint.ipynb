{
 "cells": [
  {
   "cell_type": "markdown",
   "id": "f0cd8f9d-4003-448c-baa7-ca7400ec4bfd",
   "metadata": {},
   "source": [
    "## 建立DataFrame物件"
   ]
  },
  {
   "cell_type": "markdown",
   "id": "471336a0-cf01-4d1b-bfb6-369578d55bab",
   "metadata": {},
   "source": [
    "#### 用cloumns更改欄位 "
   ]
  },
  {
   "cell_type": "code",
   "execution_count": 4,
   "id": "5466477f-0bec-46b1-b9dc-bcfd09ccd3c6",
   "metadata": {},
   "outputs": [
    {
     "name": "stdout",
     "output_type": "stream",
     "text": [
      "   蘋果  香蕉  西瓜\n",
      "0   1   3   4\n",
      "1   5   2   1\n",
      "2   3   2   1\n",
      "3   0   8   5\n"
     ]
    }
   ],
   "source": [
    "import pandas as pd\n",
    "\n",
    "fruits = {\n",
    "    \"蘋果\": [1, 5, 3, 0],\n",
    "    \"香蕉\": [3, 2, 2, 8],\n",
    "    \"西瓜\": [4, 1, 1, 5]\n",
    "    }\n",
    "\n",
    "df = pd.DataFrame(fruits)\n",
    "print(df)"
   ]
  },
  {
   "cell_type": "code",
   "execution_count": 12,
   "id": "08b83bc4-3f56-48fd-b98d-1e1368ef1ff1",
   "metadata": {},
   "outputs": [
    {
     "name": "stdout",
     "output_type": "stream",
     "text": [
      "    蘋果  香蕉  西瓜\n",
      "桃園   1   3   4\n",
      "台中   5   2   1\n",
      "彰化   3   2   1\n",
      "宜蘭   0   8   5\n",
      "    banana  apple  watermelon\n",
      "桃園       1      3           4\n",
      "台中       5      2           1\n",
      "新北       3      2           1\n",
      "宜蘭       0      8           5\n"
     ]
    }
   ],
   "source": [
    "cities = [\"桃園\", \"台中\", \"彰化\", \"宜蘭\"]\n",
    "df = pd.DataFrame(fruits, index=cities)\n",
    "print(df)\n",
    "\n",
    "df.columns = [\"banana\", \"apple\", \"watermelon\"]\n",
    "cities[2] = \"新北\"\n",
    "df.index = cities\n",
    "print(df)"
   ]
  },
  {
   "cell_type": "markdown",
   "id": "ae9e20e1-02c2-4b89-b863-18c2ca2d9a62",
   "metadata": {},
   "source": [
    "## 轉置: T"
   ]
  },
  {
   "cell_type": "code",
   "execution_count": 17,
   "id": "0b0f8c99-f0a9-4d2b-972e-5b4b7883e63f",
   "metadata": {},
   "outputs": [
    {
     "data": {
      "text/html": [
       "<div>\n",
       "<style scoped>\n",
       "    .dataframe tbody tr th:only-of-type {\n",
       "        vertical-align: middle;\n",
       "    }\n",
       "\n",
       "    .dataframe tbody tr th {\n",
       "        vertical-align: top;\n",
       "    }\n",
       "\n",
       "    .dataframe thead th {\n",
       "        text-align: right;\n",
       "    }\n",
       "</style>\n",
       "<table border=\"1\" class=\"dataframe\">\n",
       "  <thead>\n",
       "    <tr style=\"text-align: right;\">\n",
       "      <th></th>\n",
       "      <th>桃園</th>\n",
       "      <th>台中</th>\n",
       "      <th>新北</th>\n",
       "      <th>宜蘭</th>\n",
       "    </tr>\n",
       "  </thead>\n",
       "  <tbody>\n",
       "    <tr>\n",
       "      <th>banana</th>\n",
       "      <td>1</td>\n",
       "      <td>5</td>\n",
       "      <td>3</td>\n",
       "      <td>0</td>\n",
       "    </tr>\n",
       "    <tr>\n",
       "      <th>apple</th>\n",
       "      <td>3</td>\n",
       "      <td>2</td>\n",
       "      <td>2</td>\n",
       "      <td>8</td>\n",
       "    </tr>\n",
       "    <tr>\n",
       "      <th>watermelon</th>\n",
       "      <td>4</td>\n",
       "      <td>1</td>\n",
       "      <td>1</td>\n",
       "      <td>5</td>\n",
       "    </tr>\n",
       "  </tbody>\n",
       "</table>\n",
       "</div>"
      ],
      "text/plain": [
       "            桃園  台中  新北  宜蘭\n",
       "banana       1   5   3   0\n",
       "apple        3   2   2   8\n",
       "watermelon   4   1   1   5"
      ]
     },
     "execution_count": 17,
     "metadata": {},
     "output_type": "execute_result"
    }
   ],
   "source": [
    "df.T"
   ]
  },
  {
   "cell_type": "markdown",
   "id": "bb93a61e-2f5c-468f-b066-70c6bf3505c0",
   "metadata": {},
   "source": [
    "## 匯入及匯出DataFrame物件"
   ]
  },
  {
   "cell_type": "markdown",
   "id": "1babe4e2-4ed2-4c87-8a04-f3b9298a58b5",
   "metadata": {},
   "source": [
    "#### df.to_csv(filename)\n",
    "#### df.to_excel(filename)\n",
    "#### df.to_html(filename)\n",
    "#### df.to_json(filename)\n",
    "#### 讀取就改成read"
   ]
  },
  {
   "cell_type": "markdown",
   "id": "e27e99d6-9093-4630-8a6e-7e168656143c",
   "metadata": {},
   "source": [
    "## 取資料\n",
    "#### head、tail: 預設5筆"
   ]
  },
  {
   "cell_type": "markdown",
   "id": "1f5b99e7-92f8-48c4-8d1b-9d668ef5f571",
   "metadata": {},
   "source": [
    "## index、columns、values: 索引、欄位、資料\n",
    "#### df.index()\n",
    "#### df.columns()\n",
    "#### df.values()"
   ]
  },
  {
   "cell_type": "markdown",
   "id": "f1c330a4-3ae1-4bed-bffe-98b119a94ec1",
   "metadata": {},
   "source": [
    "## 走訪DataFrame: iterrows()\n",
    "#### DataFrame物件每一列都是一筆資料，可以用for搭配iterrows()方法，走訪每一筆資料"
   ]
  },
  {
   "cell_type": "code",
   "execution_count": 10,
   "id": "1cd519d0-0786-47a8-b113-c6beaecde1cf",
   "metadata": {},
   "outputs": [
    {
     "name": "stdout",
     "output_type": "stream",
     "text": [
      "0 1 3 4\n",
      "1 5 2 1\n",
      "2 3 2 1\n",
      "3 0 8 5\n"
     ]
    }
   ],
   "source": [
    "fruits = {\n",
    "    \"蘋果\": [1, 5, 3, 0],\n",
    "    \"香蕉\": [3, 2, 2, 8],\n",
    "    \"西瓜\": [4, 1, 1, 5]\n",
    "    }\n",
    "\n",
    "df = pd.DataFrame(fruits)\n",
    "\n",
    "for index, row in df.iterrows():\n",
    "    print(index, row[\"蘋果\"], row[\"香蕉\"], row[\"西瓜\"])"
   ]
  }
 ],
 "metadata": {
  "kernelspec": {
   "display_name": "Python 3 (ipykernel)",
   "language": "python",
   "name": "python3"
  },
  "language_info": {
   "codemirror_mode": {
    "name": "ipython",
    "version": 3
   },
   "file_extension": ".py",
   "mimetype": "text/x-python",
   "name": "python",
   "nbconvert_exporter": "python",
   "pygments_lexer": "ipython3",
   "version": "3.11.7"
  }
 },
 "nbformat": 4,
 "nbformat_minor": 5
}

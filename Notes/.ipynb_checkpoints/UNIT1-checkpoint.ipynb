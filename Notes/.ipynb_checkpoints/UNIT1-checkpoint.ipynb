{
 "cells": [
  {
   "cell_type": "markdown",
   "id": "45a9b0fe-31e3-4b8d-a086-7c2b73b2e3c9",
   "metadata": {},
   "source": [
    "*arguemnts 是參數識別字前加上一個星號，當成一組tuple\n",
    "**keywords 是參數識別字前加上兩個星號，當成一組dict"
   ]
  },
  {
   "cell_type": "code",
   "execution_count": null,
   "id": "4e11797e-2ad8-4282-bc73-faf98365e786",
   "metadata": {},
   "outputs": [],
   "source": [
    "def function_name(*arguments, *keywords*):\n",
    "    # do something\n",
    "    return something"
   ]
  }
 ],
 "metadata": {
  "kernelspec": {
   "display_name": "Python 3 (ipykernel)",
   "language": "python",
   "name": "python3"
  },
  "language_info": {
   "codemirror_mode": {
    "name": "ipython",
    "version": 3
   },
   "file_extension": ".py",
   "mimetype": "text/x-python",
   "name": "python",
   "nbconvert_exporter": "python",
   "pygments_lexer": "ipython3",
   "version": "3.11.7"
  }
 },
 "nbformat": 4,
 "nbformat_minor": 5
}

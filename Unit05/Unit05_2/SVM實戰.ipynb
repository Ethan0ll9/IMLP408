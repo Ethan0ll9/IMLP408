{
 "cells": [
  {
   "cell_type": "markdown",
   "metadata": {},
   "source": [
    "# 乳癌資料庫預測SVM分類\n",
    ">使用scikit-learn 機器學習套件裡的SVR演算法\n",
    "\n",
    "* (一)引入函式庫及內建乳癌資料集<br>\n",
    "引入之函式庫如下<br>\n",
    "sklearn.datasets: 用來匯入內建之乳癌資料集`datasets.load_breast_cancer()`<br>\n",
    "sklearn.SVR: 支持向量機回歸分析之演算法<br>\n",
    "matplotlib.pyplot: 用來繪製影像"
   ]
  },
  {
   "cell_type": "code",
   "execution_count": 17,
   "metadata": {},
   "outputs": [],
   "source": [
    "from sklearn import svm\n",
    "from sklearn import datasets\n",
    "from sklearn.model_selection import train_test_split\n",
    "from sklearn.metrics import accuracy_score\n",
    "import matplotlib.pyplot as plt\n",
    "import pandas as pd"
   ]
  },
  {
   "cell_type": "markdown",
   "metadata": {},
   "source": [
    "## Step1. 下載資料"
   ]
  },
  {
   "cell_type": "code",
   "execution_count": 18,
   "metadata": {},
   "outputs": [],
   "source": [
    "breast_cancer = datasets.load_breast_cancer()"
   ]
  },
  {
   "cell_type": "code",
   "execution_count": 4,
   "metadata": {},
   "outputs": [],
   "source": [
    "X = breast_cancer.data"
   ]
  },
  {
   "cell_type": "code",
   "execution_count": 30,
   "metadata": {},
   "outputs": [],
   "source": [
    "y = breast_cancer.target"
   ]
  },
  {
   "cell_type": "code",
   "execution_count": 39,
   "metadata": {},
   "outputs": [
    {
     "name": "stdout",
     "output_type": "stream",
     "text": [
      "dict_keys(['data', 'target', 'frame', 'target_names', 'DESCR', 'feature_names', 'filename', 'data_module'])\n",
      "----------------------------------------------------------------------------------------------------\n",
      "['mean radius' 'mean texture' 'mean perimeter' 'mean area'\n",
      " 'mean smoothness' 'mean compactness' 'mean concavity'\n",
      " 'mean concave points' 'mean symmetry' 'mean fractal dimension'\n",
      " 'radius error' 'texture error' 'perimeter error' 'area error'\n",
      " 'smoothness error' 'compactness error' 'concavity error'\n",
      " 'concave points error' 'symmetry error' 'fractal dimension error'\n",
      " 'worst radius' 'worst texture' 'worst perimeter' 'worst area'\n",
      " 'worst smoothness' 'worst compactness' 'worst concavity'\n",
      " 'worst concave points' 'worst symmetry' 'worst fractal dimension']\n",
      "----------------------------------------------------------------------------------------------------\n",
      "['malignant' 'benign']\n",
      "----------------------------------------------------------------------------------------------------\n",
      "   mean radius  mean texture  mean smoothness  mean compactness  \\\n",
      "0        17.99         10.38          0.11840           0.27760   \n",
      "1        20.57         17.77          0.08474           0.07864   \n",
      "2        19.69         21.25          0.10960           0.15990   \n",
      "3        11.42         20.38          0.14250           0.28390   \n",
      "4        20.29         14.34          0.10030           0.13280   \n",
      "\n",
      "   mean symmetry  mean fractal dimension  \n",
      "0         0.2419                 0.07871  \n",
      "1         0.1812                 0.05667  \n",
      "2         0.2069                 0.05999  \n",
      "3         0.2597                 0.09744  \n",
      "4         0.1809                 0.05883  \n",
      "(569, 6)\n",
      "(569,)\n"
     ]
    }
   ],
   "source": [
    "print(breast_cancer.keys())\n",
    "print('-' * 100)\n",
    "print(breast_cancer.feature_names)\n",
    "print('-' * 100)\n",
    "print(breast_cancer.target_names)\n",
    "print('-' * 100)\n",
    "\n",
    "# 第一次訓練出現 overfitting，降低特徵數量，手動篩選\n",
    "X = pd.DataFrame(breast_cancer['data'], columns=breast_cancer['feature_names'])\n",
    "X = X[['mean radius', 'mean texture', 'mean smoothness', 'mean compactness', 'mean symmetry', 'mean fractal dimension']]\n",
    "\n",
    "print(X.head())\n",
    "\n",
    "# 確認維度\n",
    "print(X.shape)\n",
    "print(y.shape)"
   ]
  },
  {
   "cell_type": "markdown",
   "metadata": {},
   "source": [
    "## Step2. 區分訓練集與測試集"
   ]
  },
  {
   "cell_type": "code",
   "execution_count": 33,
   "metadata": {},
   "outputs": [],
   "source": [
    "X_train, X_test, y_train, y_test = train_test_split(X, y, test_size=0.3, random_state=0)"
   ]
  },
  {
   "cell_type": "markdown",
   "metadata": {},
   "source": [
    "## Step3. 建模"
   ]
  },
  {
   "cell_type": "code",
   "execution_count": 34,
   "metadata": {},
   "outputs": [
    {
     "data": {
      "text/html": [
       "<style>#sk-container-id-3 {color: black;background-color: white;}#sk-container-id-3 pre{padding: 0;}#sk-container-id-3 div.sk-toggleable {background-color: white;}#sk-container-id-3 label.sk-toggleable__label {cursor: pointer;display: block;width: 100%;margin-bottom: 0;padding: 0.3em;box-sizing: border-box;text-align: center;}#sk-container-id-3 label.sk-toggleable__label-arrow:before {content: \"▸\";float: left;margin-right: 0.25em;color: #696969;}#sk-container-id-3 label.sk-toggleable__label-arrow:hover:before {color: black;}#sk-container-id-3 div.sk-estimator:hover label.sk-toggleable__label-arrow:before {color: black;}#sk-container-id-3 div.sk-toggleable__content {max-height: 0;max-width: 0;overflow: hidden;text-align: left;background-color: #f0f8ff;}#sk-container-id-3 div.sk-toggleable__content pre {margin: 0.2em;color: black;border-radius: 0.25em;background-color: #f0f8ff;}#sk-container-id-3 input.sk-toggleable__control:checked~div.sk-toggleable__content {max-height: 200px;max-width: 100%;overflow: auto;}#sk-container-id-3 input.sk-toggleable__control:checked~label.sk-toggleable__label-arrow:before {content: \"▾\";}#sk-container-id-3 div.sk-estimator input.sk-toggleable__control:checked~label.sk-toggleable__label {background-color: #d4ebff;}#sk-container-id-3 div.sk-label input.sk-toggleable__control:checked~label.sk-toggleable__label {background-color: #d4ebff;}#sk-container-id-3 input.sk-hidden--visually {border: 0;clip: rect(1px 1px 1px 1px);clip: rect(1px, 1px, 1px, 1px);height: 1px;margin: -1px;overflow: hidden;padding: 0;position: absolute;width: 1px;}#sk-container-id-3 div.sk-estimator {font-family: monospace;background-color: #f0f8ff;border: 1px dotted black;border-radius: 0.25em;box-sizing: border-box;margin-bottom: 0.5em;}#sk-container-id-3 div.sk-estimator:hover {background-color: #d4ebff;}#sk-container-id-3 div.sk-parallel-item::after {content: \"\";width: 100%;border-bottom: 1px solid gray;flex-grow: 1;}#sk-container-id-3 div.sk-label:hover label.sk-toggleable__label {background-color: #d4ebff;}#sk-container-id-3 div.sk-serial::before {content: \"\";position: absolute;border-left: 1px solid gray;box-sizing: border-box;top: 0;bottom: 0;left: 50%;z-index: 0;}#sk-container-id-3 div.sk-serial {display: flex;flex-direction: column;align-items: center;background-color: white;padding-right: 0.2em;padding-left: 0.2em;position: relative;}#sk-container-id-3 div.sk-item {position: relative;z-index: 1;}#sk-container-id-3 div.sk-parallel {display: flex;align-items: stretch;justify-content: center;background-color: white;position: relative;}#sk-container-id-3 div.sk-item::before, #sk-container-id-3 div.sk-parallel-item::before {content: \"\";position: absolute;border-left: 1px solid gray;box-sizing: border-box;top: 0;bottom: 0;left: 50%;z-index: -1;}#sk-container-id-3 div.sk-parallel-item {display: flex;flex-direction: column;z-index: 1;position: relative;background-color: white;}#sk-container-id-3 div.sk-parallel-item:first-child::after {align-self: flex-end;width: 50%;}#sk-container-id-3 div.sk-parallel-item:last-child::after {align-self: flex-start;width: 50%;}#sk-container-id-3 div.sk-parallel-item:only-child::after {width: 0;}#sk-container-id-3 div.sk-dashed-wrapped {border: 1px dashed gray;margin: 0 0.4em 0.5em 0.4em;box-sizing: border-box;padding-bottom: 0.4em;background-color: white;}#sk-container-id-3 div.sk-label label {font-family: monospace;font-weight: bold;display: inline-block;line-height: 1.2em;}#sk-container-id-3 div.sk-label-container {text-align: center;}#sk-container-id-3 div.sk-container {/* jupyter's `normalize.less` sets `[hidden] { display: none; }` but bootstrap.min.css set `[hidden] { display: none !important; }` so we also need the `!important` here to be able to override the default hidden behavior on the sphinx rendered scikit-learn.org. See: https://github.com/scikit-learn/scikit-learn/issues/21755 */display: inline-block !important;position: relative;}#sk-container-id-3 div.sk-text-repr-fallback {display: none;}</style><div id=\"sk-container-id-3\" class=\"sk-top-container\"><div class=\"sk-text-repr-fallback\"><pre>SVR(gamma=&#x27;auto&#x27;)</pre><b>In a Jupyter environment, please rerun this cell to show the HTML representation or trust the notebook. <br />On GitHub, the HTML representation is unable to render, please try loading this page with nbviewer.org.</b></div><div class=\"sk-container\" hidden><div class=\"sk-item\"><div class=\"sk-estimator sk-toggleable\"><input class=\"sk-toggleable__control sk-hidden--visually\" id=\"sk-estimator-id-3\" type=\"checkbox\" checked><label for=\"sk-estimator-id-3\" class=\"sk-toggleable__label sk-toggleable__label-arrow\">SVR</label><div class=\"sk-toggleable__content\"><pre>SVR(gamma=&#x27;auto&#x27;)</pre></div></div></div></div></div>"
      ],
      "text/plain": [
       "SVR(gamma='auto')"
      ]
     },
     "execution_count": 34,
     "metadata": {},
     "output_type": "execute_result"
    }
   ],
   "source": [
    "clf = svm.SVR(kernel='rbf', gamma='auto')\n",
    "clf.fit(X_train, y_train)"
   ]
  },
  {
   "cell_type": "markdown",
   "metadata": {},
   "source": [
    "## Step4. 預測\n",
    "\n",
    "```\n",
    "\n",
    "```\n"
   ]
  },
  {
   "cell_type": "code",
   "execution_count": 35,
   "metadata": {},
   "outputs": [
    {
     "data": {
      "text/plain": [
       "array([ 7.38075201e-01,  2.99795128e-01,  9.34884240e-01,  8.39234682e-01,\n",
       "        9.66684882e-01,  8.94922486e-01,  9.43253420e-01,  9.11441458e-01,\n",
       "        9.02143177e-01,  9.02004039e-01,  8.92204898e-01,  1.98769144e-02,\n",
       "        8.88538589e-01, -7.52916133e-02,  9.27132545e-01,  9.87249884e-01,\n",
       "        9.35754191e-01,  1.19500746e-01,  9.62370304e-02,  1.00465688e-01,\n",
       "        8.92376647e-01, -9.18451821e-03,  8.99635444e-01,  9.14258681e-01,\n",
       "        7.86118514e-02,  8.79064697e-01,  8.98389027e-01,  2.90733336e-01,\n",
       "        9.25826331e-01,  9.93651767e-02,  9.16651758e-01,  8.77076785e-02,\n",
       "        7.97557317e-01, -1.15394642e-01,  9.16623738e-01,  6.55383483e-01,\n",
       "        9.28242323e-01,  7.42998669e-02,  7.85076886e-01,  2.20331898e-01,\n",
       "        7.27282499e-01,  9.12338391e-01,  1.90509350e-03,  9.03878634e-01,\n",
       "        8.57225464e-01,  1.00154498e-01,  9.36940089e-01,  3.45740391e-01,\n",
       "        9.06527675e-01,  8.24478229e-01,  9.67312445e-02, -3.33949494e-02,\n",
       "        1.02776459e-01,  9.03342016e-01,  9.47729844e-01,  9.05397070e-01,\n",
       "        7.45684913e-01,  1.00909771e+00,  9.57789710e-01,  9.69593594e-02,\n",
       "        3.17173037e-01, -3.55993297e-03,  9.03224987e-01,  9.06914904e-01,\n",
       "        1.09169566e-01,  8.82826340e-01,  1.01138850e-01,  4.53231959e-01,\n",
       "        9.13611256e-02,  9.23854172e-01,  8.88955443e-01, -1.07122315e-01,\n",
       "        9.03883970e-01,  2.62962426e-02, -4.79840478e-02,  3.63730381e-01,\n",
       "        9.45516596e-01,  9.48582211e-01,  9.09017523e-01,  8.74687971e-01,\n",
       "        3.09855658e-01,  1.03571441e-01, -5.44870721e-02,  9.17349383e-01,\n",
       "        7.31713990e-01,  8.99831595e-01,  9.24809879e-01,  8.37818183e-01,\n",
       "        4.77106342e-02,  1.39882416e-01,  9.18549986e-01,  7.63060613e-01,\n",
       "       -8.44977776e-02,  5.95506322e-01,  8.86027498e-01,  9.48251200e-01,\n",
       "       -1.09264962e-01,  9.05592039e-01,  9.02167231e-01,  9.01397020e-01,\n",
       "        9.29328008e-01,  9.34015352e-01,  3.45116274e-01,  7.27253305e-01,\n",
       "       -6.80062026e-04,  9.22458591e-01,  6.72434008e-02,  9.31664075e-01,\n",
       "        1.64501916e-01,  3.48239356e-02,  9.02884304e-01,  1.01056373e-01,\n",
       "        8.11806777e-02,  7.62520326e-01,  9.09604250e-01,  9.22436323e-01,\n",
       "        7.88843747e-01,  9.11707951e-01,  9.18411915e-01,  9.08878749e-01,\n",
       "        9.10435259e-01,  9.18225661e-01,  8.13518104e-02,  8.98991749e-01,\n",
       "        9.25188701e-02,  8.88642790e-01,  9.08655934e-01,  9.00368491e-01,\n",
       "        9.03693482e-01,  9.17226349e-01,  6.19234115e-02,  9.05034400e-01,\n",
       "        9.11905897e-01,  6.00314768e-01,  8.90048393e-01,  8.97800021e-01,\n",
       "        1.48789888e-01,  4.43123763e-01,  1.18121032e-01,  9.07004035e-01,\n",
       "        8.97477918e-01,  8.66413343e-01,  7.56958894e-02,  9.06545579e-01,\n",
       "        9.08196798e-01,  1.12158620e-01,  9.41571148e-01, -6.62693340e-02,\n",
       "        9.26296255e-01,  9.30591142e-01,  9.49780559e-01,  6.32300506e-01,\n",
       "        8.85444613e-01,  9.42625199e-01,  9.05878828e-01, -6.21192366e-03,\n",
       "        9.33458089e-01,  2.04427447e-01,  9.34783992e-01,  8.61340968e-02,\n",
       "        9.04064879e-02,  9.45417403e-01,  9.02759778e-01,  4.24148074e-02,\n",
       "        9.03456337e-01, -1.01107787e-01,  5.51907578e-01,  6.37329627e-02,\n",
       "        9.19390373e-01,  6.29597002e-01,  8.77579512e-01])"
      ]
     },
     "execution_count": 35,
     "metadata": {},
     "output_type": "execute_result"
    }
   ],
   "source": [
    "clf.predict(X_test)"
   ]
  },
  {
   "cell_type": "markdown",
   "metadata": {},
   "source": [
    "## Step5. 準確度分析"
   ]
  },
  {
   "cell_type": "code",
   "execution_count": 36,
   "metadata": {},
   "outputs": [
    {
     "name": "stdout",
     "output_type": "stream",
     "text": [
      "0.7039327341561022\n",
      "0.6446755636956427\n"
     ]
    }
   ],
   "source": [
    "print(clf.score(X_train,y_train))\n",
    "print(clf.score(X_test, y_test))"
   ]
  }
 ],
 "metadata": {
  "kernelspec": {
   "display_name": "Python 3 (ipykernel)",
   "language": "python",
   "name": "python3"
  },
  "language_info": {
   "codemirror_mode": {
    "name": "ipython",
    "version": 3
   },
   "file_extension": ".py",
   "mimetype": "text/x-python",
   "name": "python",
   "nbconvert_exporter": "python",
   "pygments_lexer": "ipython3",
   "version": "3.11.7"
  }
 },
 "nbformat": 4,
 "nbformat_minor": 4
}
